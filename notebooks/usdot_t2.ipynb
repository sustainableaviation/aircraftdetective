{
 "cells": [
  {
   "cell_type": "code",
   "execution_count": null,
   "id": "6c330992",
   "metadata": {},
   "outputs": [],
   "source": [
    "from aircraftdetective import ureg"
   ]
  }
 ],
 "metadata": {
  "language_info": {
   "name": "python"
  }
 },
 "nbformat": 4,
 "nbformat_minor": 5
}
